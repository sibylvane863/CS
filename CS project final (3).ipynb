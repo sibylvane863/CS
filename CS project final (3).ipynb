{
 "cells": [
  {
   "cell_type": "markdown",
   "id": "e10c19d7",
   "metadata": {},
   "source": [
    "# Project: tbd\n",
    "by Mathew Zib, 3764271"
   ]
  },
  {
   "cell_type": "code",
   "execution_count": 1,
   "id": "729b44e7",
   "metadata": {},
   "outputs": [],
   "source": [
    "import numpy as np\n",
    "import matplotlib.pyplot as plt\n",
    "import pandas as pd\n",
    "from time import sleep,time\n",
    "from threading import Thread\n",
    "from ipycanvas import MultiCanvas, hold_canvas,Canvas"
   ]
  },
  {
   "cell_type": "markdown",
   "id": "262ef3ca",
   "metadata": {},
   "source": [
    "## Introduction"
   ]
  },
  {
   "cell_type": "code",
   "execution_count": null,
   "id": "aceae59c",
   "metadata": {},
   "outputs": [],
   "source": []
  },
  {
   "cell_type": "markdown",
   "id": "5e038883",
   "metadata": {},
   "source": [
    "## Fundamentals\n",
    "Required for understanding of the topic"
   ]
  },
  {
   "cell_type": "code",
   "execution_count": null,
   "id": "6b952a8e",
   "metadata": {},
   "outputs": [],
   "source": []
  },
  {
   "cell_type": "markdown",
   "id": "59008790",
   "metadata": {},
   "source": [
    "## Results and Discussion\n",
    "Main part"
   ]
  },
  {
   "cell_type": "code",
   "execution_count": 24,
   "id": "540daf65",
   "metadata": {},
   "outputs": [],
   "source": [
    "# Class definition\n",
    "class Colloid:\n",
    "\n",
    "    # A class variable, counting the number of Colloids\n",
    "    number = 0\n",
    "    f = 2.2e-19 # this is k_B T/(6 pi eta) in m^3/s\n",
    "\n",
    "    # constructor\n",
    "    def __init__(self,R, x0=0, y0=0):\n",
    "        # add initialisation code here\n",
    "        self.R=R\n",
    "        self.x=[x0]\n",
    "        self.y=[y0]\n",
    "        Colloid.number=Colloid.number+1\n",
    "        self.index=Colloid.number\n",
    "        self.D=Colloid.f/self.R\n",
    "\n",
    "    def get_D(self):\n",
    "        return(self.D)\n",
    "\n",
    "    def sim_trajectory(self,N,dt):\n",
    "        for i in range(N):\n",
    "            self.update(dt)\n",
    "\n",
    "    def update(self,dt):\n",
    "        self.x.append(self.x[-1]+np.random.normal(0.0, np.sqrt(2*self.D*dt)))\n",
    "        self.y.append(self.y[-1]+np.random.normal(0.0, np.sqrt(2*self.D*dt)))\n",
    "        return(self.x[-1],self.y[-1])\n",
    "\n",
    "    def get_trajectory(self):\n",
    "        return(pd.DataFrame({'x':self.x,'y':self.y}))\n",
    "\n",
    "    # class method accessing a class variable\n",
    "    @classmethod\n",
    "    def how_many(cls):\n",
    "        return(Colloid.number)\n",
    "\n",
    "    # insert something that prints the particle position in a formatted way when printing\n",
    "    def __str__(self):\n",
    "        return(\"I'm a particle with radius R={0:0.3e} at x={1:0.3e},y={2:0.3e}.\".format(self.R, self.x[-1], self.y[-1]))"
   ]
  },
  {
   "cell_type": "code",
   "execution_count": 37,
   "id": "951684ff-4954-4acb-bb5c-6bd5f35a07eb",
   "metadata": {},
   "outputs": [
    {
     "data": {
      "application/vnd.jupyter.widget-view+json": {
       "model_id": "6ad9d07d55c24409ab127645155c4950",
       "version_major": 2,
       "version_minor": 0
      },
      "text/plain": [
       "Canvas(width=500)"
      ]
     },
     "metadata": {},
     "output_type": "display_data"
    }
   ],
   "source": [
    "#create particles\n",
    "N=200\n",
    "p=[]\n",
    "for _ in range(N):\n",
    "    p.append(Colloid(np.random.randint(2,4)*1e-6,0,0))    \n",
    "\n",
    "#create canvas    \n",
    "canvas = Canvas(width=500, height=500)\n",
    "display(canvas)    \n",
    "\n",
    "#fill canvas\n",
    "scale=1e7 # this is to scale up all from µm to pixels\n",
    "for _ in range(1000):\n",
    "    for i in range(N):\n",
    "        p[i].update(0.18)\n",
    "    with hold_canvas(canvas):\n",
    "        canvas.clear() # clear the canvas before drawing\n",
    "        canvas.fill_style = 'blue' # fill color for the particles\n",
    "        canvas.global_alpha = 0.5 # make the slightly transparent\n",
    "        for i in range(N): # loop over all particles\n",
    "            # draw a filled circle for each particle\n",
    "            canvas.fill_arc(p[i].x[-1]*scale+150, p[i].y[-1]*scale+150, p[i].R*1e6, 0, 2*np.pi)\n",
    "        sleep(0.01) # wait 10 ms before drawing the next timestep\n",
    "      \n",
    "#print(\"I'm a particle with radius R={0:0.3e} at x={1:0.3e}, y={2:0.3e}.\".format(p[1].R, p[1].x[-1], p[1].y[-1]))\n"
   ]
  },
  {
   "cell_type": "markdown",
   "id": "377280e6",
   "metadata": {},
   "source": [
    "## Summary"
   ]
  },
  {
   "cell_type": "code",
   "execution_count": null,
   "id": "a1c8b36c",
   "metadata": {},
   "outputs": [],
   "source": []
  }
 ],
 "metadata": {
  "kernelspec": {
   "display_name": "Python 3 (ipykernel)",
   "language": "python",
   "name": "python3"
  },
  "language_info": {
   "codemirror_mode": {
    "name": "ipython",
    "version": 3
   },
   "file_extension": ".py",
   "mimetype": "text/x-python",
   "name": "python",
   "nbconvert_exporter": "python",
   "pygments_lexer": "ipython3",
   "version": "3.7.12"
  }
 },
 "nbformat": 4,
 "nbformat_minor": 5
}
