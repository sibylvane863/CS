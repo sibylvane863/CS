{
 "cells": [
  {
   "cell_type": "markdown",
   "id": "e10c19d7",
   "metadata": {},
   "source": [
    "# Project: tbd\n",
    "by Mathew Zib, 3764271"
   ]
  },
  {
   "cell_type": "code",
   "execution_count": 5,
   "id": "729b44e7",
   "metadata": {},
   "outputs": [],
   "source": [
    "import numpy as np\n",
    "import matplotlib.pyplot as plt\n",
    "import pandas as pd"
   ]
  },
  {
   "cell_type": "markdown",
   "id": "262ef3ca",
   "metadata": {},
   "source": [
    "## Introduction"
   ]
  },
  {
   "cell_type": "code",
   "execution_count": null,
   "id": "aceae59c",
   "metadata": {},
   "outputs": [],
   "source": []
  },
  {
   "cell_type": "markdown",
   "id": "5e038883",
   "metadata": {},
   "source": [
    "## Fundamentals\n",
    "Required for understanding of the topic"
   ]
  },
  {
   "cell_type": "code",
   "execution_count": null,
   "id": "6b952a8e",
   "metadata": {},
   "outputs": [],
   "source": []
  },
  {
   "cell_type": "markdown",
   "id": "59008790",
   "metadata": {},
   "source": [
    "## Results and Discussion\n",
    "Main part"
   ]
  },
  {
   "cell_type": "code",
   "execution_count": null,
   "id": "540daf65",
   "metadata": {},
   "outputs": [],
   "source": []
  },
  {
   "cell_type": "markdown",
   "id": "377280e6",
   "metadata": {},
   "source": [
    "## Summary"
   ]
  },
  {
   "cell_type": "code",
   "execution_count": null,
   "id": "a1c8b36c",
   "metadata": {},
   "outputs": [],
   "source": []
  }
 ],
 "metadata": {
  "kernelspec": {
   "display_name": "Python 3 (ipykernel)",
   "language": "python",
   "name": "python3"
  },
  "language_info": {
   "codemirror_mode": {
    "name": "ipython",
    "version": 3
   },
   "file_extension": ".py",
   "mimetype": "text/x-python",
   "name": "python",
   "nbconvert_exporter": "python",
   "pygments_lexer": "ipython3",
   "version": "3.7.12"
  }
 },
 "nbformat": 4,
 "nbformat_minor": 5
}
